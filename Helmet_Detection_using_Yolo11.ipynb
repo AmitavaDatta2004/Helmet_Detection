{
 "cells": [
  {
   "cell_type": "markdown",
   "metadata": {
    "id": "KudphSMZLKdf"
   },
   "source": [
    "Data: https://universe.roboflow.com/yolo-do-it-yhopz/helmet-detector-9rzmg-bmd6q"
   ]
  },
  {
   "cell_type": "code",
   "execution_count": 5,
   "metadata": {
    "colab": {
     "base_uri": "https://localhost:8080/"
    },
    "id": "iB8A5n5uRf-r",
    "outputId": "63405e02-486c-470d-e383-da050db43b12"
   },
   "outputs": [
    {
     "name": "stderr",
     "output_type": "stream",
     "text": [
      "'nvidia-smi' is not recognized as an internal or external command,\n",
      "operable program or batch file.\n"
     ]
    }
   ],
   "source": [
    "!nvidia-smi"
   ]
  },
  {
   "cell_type": "markdown",
   "metadata": {
    "id": "gYrzZil_R9e8"
   },
   "source": [
    "**Step 01 # Install the Ultralytics Package**"
   ]
  },
  {
   "cell_type": "code",
   "execution_count": 6,
   "metadata": {
    "colab": {
     "base_uri": "https://localhost:8080/"
    },
    "collapsed": true,
    "id": "Lrt8kAH2R5IH",
    "outputId": "15a28356-7bdc-4793-d8f7-784e78a72ef8"
   },
   "outputs": [
    {
     "name": "stdout",
     "output_type": "stream",
     "text": [
      "Requirement already satisfied: ultralytics in d:\\projects\\helmet_detection\\.venv\\lib\\site-packages (8.3.38)Note: you may need to restart the kernel to use updated packages.\n",
      "\n",
      "Requirement already satisfied: numpy>=1.23.0 in d:\\projects\\helmet_detection\\.venv\\lib\\site-packages (from ultralytics) (2.1.3)\n",
      "Requirement already satisfied: matplotlib>=3.3.0 in d:\\projects\\helmet_detection\\.venv\\lib\\site-packages (from ultralytics) (3.9.2)\n",
      "Requirement already satisfied: opencv-python>=4.6.0 in d:\\projects\\helmet_detection\\.venv\\lib\\site-packages (from ultralytics) (4.10.0.84)\n",
      "Requirement already satisfied: pillow>=7.1.2 in d:\\projects\\helmet_detection\\.venv\\lib\\site-packages (from ultralytics) (11.0.0)\n",
      "Requirement already satisfied: pyyaml>=5.3.1 in d:\\projects\\helmet_detection\\.venv\\lib\\site-packages (from ultralytics) (6.0.2)\n",
      "Requirement already satisfied: requests>=2.23.0 in d:\\projects\\helmet_detection\\.venv\\lib\\site-packages (from ultralytics) (2.32.3)\n",
      "Requirement already satisfied: scipy>=1.4.1 in d:\\projects\\helmet_detection\\.venv\\lib\\site-packages (from ultralytics) (1.14.1)\n",
      "Requirement already satisfied: torch>=1.8.0 in d:\\projects\\helmet_detection\\.venv\\lib\\site-packages (from ultralytics) (2.5.1)\n",
      "Requirement already satisfied: torchvision>=0.9.0 in d:\\projects\\helmet_detection\\.venv\\lib\\site-packages (from ultralytics) (0.20.1)\n",
      "Requirement already satisfied: tqdm>=4.64.0 in d:\\projects\\helmet_detection\\.venv\\lib\\site-packages (from ultralytics) (4.67.1)\n",
      "Requirement already satisfied: psutil in d:\\projects\\helmet_detection\\.venv\\lib\\site-packages (from ultralytics) (6.1.0)\n",
      "Requirement already satisfied: py-cpuinfo in d:\\projects\\helmet_detection\\.venv\\lib\\site-packages (from ultralytics) (9.0.0)\n",
      "Requirement already satisfied: pandas>=1.1.4 in d:\\projects\\helmet_detection\\.venv\\lib\\site-packages (from ultralytics) (2.2.3)\n",
      "Requirement already satisfied: seaborn>=0.11.0 in d:\\projects\\helmet_detection\\.venv\\lib\\site-packages (from ultralytics) (0.13.2)\n",
      "Requirement already satisfied: ultralytics-thop>=2.0.0 in d:\\projects\\helmet_detection\\.venv\\lib\\site-packages (from ultralytics) (2.0.12)\n",
      "Requirement already satisfied: contourpy>=1.0.1 in d:\\projects\\helmet_detection\\.venv\\lib\\site-packages (from matplotlib>=3.3.0->ultralytics) (1.3.1)\n",
      "Requirement already satisfied: cycler>=0.10 in d:\\projects\\helmet_detection\\.venv\\lib\\site-packages (from matplotlib>=3.3.0->ultralytics) (0.12.1)\n",
      "Requirement already satisfied: fonttools>=4.22.0 in d:\\projects\\helmet_detection\\.venv\\lib\\site-packages (from matplotlib>=3.3.0->ultralytics) (4.55.0)\n",
      "Requirement already satisfied: kiwisolver>=1.3.1 in d:\\projects\\helmet_detection\\.venv\\lib\\site-packages (from matplotlib>=3.3.0->ultralytics) (1.4.7)\n",
      "Requirement already satisfied: packaging>=20.0 in d:\\projects\\helmet_detection\\.venv\\lib\\site-packages (from matplotlib>=3.3.0->ultralytics) (24.2)\n",
      "Requirement already satisfied: pyparsing>=2.3.1 in d:\\projects\\helmet_detection\\.venv\\lib\\site-packages (from matplotlib>=3.3.0->ultralytics) (3.2.0)\n",
      "Requirement already satisfied: python-dateutil>=2.7 in d:\\projects\\helmet_detection\\.venv\\lib\\site-packages (from matplotlib>=3.3.0->ultralytics) (2.9.0.post0)\n",
      "Requirement already satisfied: pytz>=2020.1 in d:\\projects\\helmet_detection\\.venv\\lib\\site-packages (from pandas>=1.1.4->ultralytics) (2024.2)\n",
      "Requirement already satisfied: tzdata>=2022.7 in d:\\projects\\helmet_detection\\.venv\\lib\\site-packages (from pandas>=1.1.4->ultralytics) (2024.2)\n",
      "Requirement already satisfied: charset-normalizer<4,>=2 in d:\\projects\\helmet_detection\\.venv\\lib\\site-packages (from requests>=2.23.0->ultralytics) (3.4.0)\n",
      "Requirement already satisfied: idna<4,>=2.5 in d:\\projects\\helmet_detection\\.venv\\lib\\site-packages (from requests>=2.23.0->ultralytics) (3.7)\n",
      "Requirement already satisfied: urllib3<3,>=1.21.1 in d:\\projects\\helmet_detection\\.venv\\lib\\site-packages (from requests>=2.23.0->ultralytics) (2.2.3)\n",
      "Requirement already satisfied: certifi>=2017.4.17 in d:\\projects\\helmet_detection\\.venv\\lib\\site-packages (from requests>=2.23.0->ultralytics) (2024.8.30)\n",
      "Requirement already satisfied: filelock in d:\\projects\\helmet_detection\\.venv\\lib\\site-packages (from torch>=1.8.0->ultralytics) (3.16.1)\n",
      "Requirement already satisfied: typing-extensions>=4.8.0 in d:\\projects\\helmet_detection\\.venv\\lib\\site-packages (from torch>=1.8.0->ultralytics) (4.12.2)\n",
      "Requirement already satisfied: networkx in d:\\projects\\helmet_detection\\.venv\\lib\\site-packages (from torch>=1.8.0->ultralytics) (3.4.2)\n",
      "Requirement already satisfied: jinja2 in d:\\projects\\helmet_detection\\.venv\\lib\\site-packages (from torch>=1.8.0->ultralytics) (3.1.4)\n",
      "Requirement already satisfied: fsspec in d:\\projects\\helmet_detection\\.venv\\lib\\site-packages (from torch>=1.8.0->ultralytics) (2024.10.0)\n",
      "Requirement already satisfied: setuptools in d:\\projects\\helmet_detection\\.venv\\lib\\site-packages (from torch>=1.8.0->ultralytics) (75.6.0)\n",
      "Requirement already satisfied: sympy==1.13.1 in d:\\projects\\helmet_detection\\.venv\\lib\\site-packages (from torch>=1.8.0->ultralytics) (1.13.1)\n",
      "Requirement already satisfied: mpmath<1.4,>=1.1.0 in d:\\projects\\helmet_detection\\.venv\\lib\\site-packages (from sympy==1.13.1->torch>=1.8.0->ultralytics) (1.3.0)\n",
      "Requirement already satisfied: colorama in d:\\projects\\helmet_detection\\.venv\\lib\\site-packages (from tqdm>=4.64.0->ultralytics) (0.4.6)\n",
      "Requirement already satisfied: six>=1.5 in d:\\projects\\helmet_detection\\.venv\\lib\\site-packages (from python-dateutil>=2.7->matplotlib>=3.3.0->ultralytics) (1.16.0)\n",
      "Requirement already satisfied: MarkupSafe>=2.0 in d:\\projects\\helmet_detection\\.venv\\lib\\site-packages (from jinja2->torch>=1.8.0->ultralytics) (3.0.2)\n"
     ]
    }
   ],
   "source": [
    "%pip install ultralytics"
   ]
  },
  {
   "cell_type": "markdown",
   "metadata": {
    "id": "7UavftMRSJhe"
   },
   "source": [
    "**Step 02 # Import All the Requried Libraries**"
   ]
  },
  {
   "cell_type": "code",
   "execution_count": 7,
   "metadata": {
    "colab": {
     "base_uri": "https://localhost:8080/"
    },
    "id": "OKI6XspoSkdc",
    "outputId": "09e59c99-e477-414e-ad96-36cc7397d581"
   },
   "outputs": [
    {
     "name": "stdout",
     "output_type": "stream",
     "text": [
      "Ultralytics 8.3.38  Python-3.12.6 torch-2.5.1+cpu CPU (12th Gen Intel Core(TM) i5-12500H)\n",
      "Setup complete  (16 CPUs, 15.6 GB RAM, 33.3/146.5 GB disk)\n"
     ]
    }
   ],
   "source": [
    "import ultralytics\n",
    "ultralytics.checks()"
   ]
  },
  {
   "cell_type": "code",
   "execution_count": 8,
   "metadata": {
    "id": "oHWcOSblSGg8"
   },
   "outputs": [],
   "source": [
    "from ultralytics import YOLO\n",
    "from IPython.display import Image"
   ]
  },
  {
   "cell_type": "markdown",
   "metadata": {
    "id": "x1Nv8H2mS41D"
   },
   "source": [
    "**Step # 03 Download Dataset from Roboflow**"
   ]
  },
  {
   "cell_type": "code",
   "execution_count": 9,
   "metadata": {
    "colab": {
     "base_uri": "https://localhost:8080/"
    },
    "collapsed": true,
    "id": "E9wKYZvASY3U",
    "outputId": "d0d97fc0-ddf4-47e4-99ac-695d128721ce"
   },
   "outputs": [
    {
     "name": "stdout",
     "output_type": "stream",
     "text": [
      "Requirement already satisfied: roboflow in d:\\projects\\helmet_detection\\.venv\\lib\\site-packages (1.1.49)\n",
      "Requirement already satisfied: certifi in d:\\projects\\helmet_detection\\.venv\\lib\\site-packages (from roboflow) (2024.8.30)\n",
      "Requirement already satisfied: idna==3.7 in d:\\projects\\helmet_detection\\.venv\\lib\\site-packages (from roboflow) (3.7)\n",
      "Requirement already satisfied: cycler in d:\\projects\\helmet_detection\\.venv\\lib\\site-packages (from roboflow) (0.12.1)\n",
      "Requirement already satisfied: kiwisolver>=1.3.1 in d:\\projects\\helmet_detection\\.venv\\lib\\site-packages (from roboflow) (1.4.7)\n",
      "Requirement already satisfied: matplotlib in d:\\projects\\helmet_detection\\.venv\\lib\\site-packages (from roboflow) (3.9.2)\n",
      "Requirement already satisfied: numpy>=1.18.5 in d:\\projects\\helmet_detection\\.venv\\lib\\site-packages (from roboflow) (2.1.3)\n",
      "Requirement already satisfied: opencv-python-headless==4.10.0.84 in d:\\projects\\helmet_detection\\.venv\\lib\\site-packages (from roboflow) (4.10.0.84)\n",
      "Requirement already satisfied: Pillow>=7.1.2 in d:\\projects\\helmet_detection\\.venv\\lib\\site-packages (from roboflow) (11.0.0)\n",
      "Requirement already satisfied: python-dateutil in d:\\projects\\helmet_detection\\.venv\\lib\\site-packages (from roboflow) (2.9.0.post0)\n",
      "Requirement already satisfied: python-dotenv in d:\\projects\\helmet_detection\\.venv\\lib\\site-packages (from roboflow) (1.0.1)\n",
      "Requirement already satisfied: requests in d:\\projects\\helmet_detection\\.venv\\lib\\site-packages (from roboflow) (2.32.3)\n",
      "Requirement already satisfied: six in d:\\projects\\helmet_detection\\.venv\\lib\\site-packages (from roboflow) (1.16.0)\n",
      "Requirement already satisfied: urllib3>=1.26.6 in d:\\projects\\helmet_detection\\.venv\\lib\\site-packages (from roboflow) (2.2.3)\n",
      "Requirement already satisfied: tqdm>=4.41.0 in d:\\projects\\helmet_detection\\.venv\\lib\\site-packages (from roboflow) (4.67.1)\n",
      "Requirement already satisfied: PyYAML>=5.3.1 in d:\\projects\\helmet_detection\\.venv\\lib\\site-packages (from roboflow) (6.0.2)\n",
      "Requirement already satisfied: requests-toolbelt in d:\\projects\\helmet_detection\\.venv\\lib\\site-packages (from roboflow) (1.0.0)\n",
      "Requirement already satisfied: filetype in d:\\projects\\helmet_detection\\.venv\\lib\\site-packages (from roboflow) (1.2.0)\n",
      "Requirement already satisfied: colorama in d:\\projects\\helmet_detection\\.venv\\lib\\site-packages (from tqdm>=4.41.0->roboflow) (0.4.6)\n",
      "Requirement already satisfied: contourpy>=1.0.1 in d:\\projects\\helmet_detection\\.venv\\lib\\site-packages (from matplotlib->roboflow) (1.3.1)\n",
      "Requirement already satisfied: fonttools>=4.22.0 in d:\\projects\\helmet_detection\\.venv\\lib\\site-packages (from matplotlib->roboflow) (4.55.0)\n",
      "Requirement already satisfied: packaging>=20.0 in d:\\projects\\helmet_detection\\.venv\\lib\\site-packages (from matplotlib->roboflow) (24.2)\n",
      "Requirement already satisfied: pyparsing>=2.3.1 in d:\\projects\\helmet_detection\\.venv\\lib\\site-packages (from matplotlib->roboflow) (3.2.0)\n",
      "Requirement already satisfied: charset-normalizer<4,>=2 in d:\\projects\\helmet_detection\\.venv\\lib\\site-packages (from requests->roboflow) (3.4.0)\n",
      "Note: you may need to restart the kernel to use updated packages.\n",
      "loading Roboflow workspace...\n",
      "loading Roboflow project...\n"
     ]
    },
    {
     "name": "stderr",
     "output_type": "stream",
     "text": [
      "Downloading Dataset Version Zip in Helmet-Detector-1 to yolov11:: 100%|██████████| 100833/100833 [00:30<00:00, 3281.41it/s]"
     ]
    },
    {
     "name": "stdout",
     "output_type": "stream",
     "text": [
      "\n"
     ]
    },
    {
     "name": "stderr",
     "output_type": "stream",
     "text": [
      "\n",
      "Extracting Dataset Version Zip to Helmet-Detector-1 in yolov11:: 100%|██████████| 5696/5696 [00:02<00:00, 2169.86it/s]\n"
     ]
    }
   ],
   "source": [
    "%pip install roboflow\n",
    "\n",
    "from roboflow import Roboflow\n",
    "rf = Roboflow(api_key=\"ZkNMlNnyIa2y7w8zGWMS\")\n",
    "project = rf.workspace(\"yolo-do-it-yhopz\").project(\"helmet-detector-9rzmg-bmd6q\")\n",
    "version = project.version(1)\n",
    "dataset = version.download(\"yolov11\")\n",
    "\n"
   ]
  },
  {
   "cell_type": "code",
   "execution_count": 10,
   "metadata": {
    "colab": {
     "base_uri": "https://localhost:8080/",
     "height": 35
    },
    "id": "mdZobxnHVhhf",
    "outputId": "868b883f-00ab-44a4-a13b-f8c012686659"
   },
   "outputs": [
    {
     "data": {
      "text/plain": [
       "'d:\\\\Projects\\\\Helmet_Detection\\\\Helmet-Detector-1'"
      ]
     },
     "execution_count": 10,
     "metadata": {},
     "output_type": "execute_result"
    }
   ],
   "source": [
    "dataset.location"
   ]
  },
  {
   "cell_type": "markdown",
   "metadata": {
    "id": "B_cfUufNYF3_"
   },
   "source": [
    "**Step # 04 Train YOLO11 Model on a Custom Dataset**"
   ]
  },
  {
   "cell_type": "code",
   "execution_count": 12,
   "metadata": {
    "colab": {
     "base_uri": "https://localhost:8080/"
    },
    "id": "yxp_shPlYBAS",
    "outputId": "ef4ef5db-e3ce-4d91-9473-270161a67346"
   },
   "outputs": [
    {
     "name": "stdout",
     "output_type": "stream",
     "text": [
      "^C\n"
     ]
    }
   ],
   "source": [
    "!YOLO task=detect mode=train data={dataset.location}/data.yaml model=\"yolo11n.pt\" epochs=5 imgsz=640"
   ]
  },
  {
   "cell_type": "markdown",
   "metadata": {
    "id": "gFLPh2gN04R_"
   },
   "source": [
    "**Step # 05 Examine Training Results**"
   ]
  },
  {
   "cell_type": "code",
   "execution_count": null,
   "metadata": {
    "colab": {
     "base_uri": "https://localhost:8080/",
     "height": 467
    },
    "id": "vHVXACym1VZk",
    "outputId": "778aca07-6e01-4ea2-f350-f00ad2832c26"
   },
   "outputs": [],
   "source": [
    "Image(\"/content/runs/detect/train/confusion_matrix.png\", width=600)"
   ]
  },
  {
   "cell_type": "code",
   "execution_count": null,
   "metadata": {
    "colab": {
     "base_uri": "https://localhost:8080/",
     "height": 617
    },
    "id": "Hh2vau2HMuc_",
    "outputId": "495f93a4-fa05-4be4-8643-e03ec4fefa28"
   },
   "outputs": [],
   "source": [
    "Image(\"/content/runs/detect/train/labels.jpg\", width=600)"
   ]
  },
  {
   "cell_type": "code",
   "execution_count": null,
   "metadata": {
    "colab": {
     "base_uri": "https://localhost:8080/",
     "height": 317
    },
    "id": "PeSiFrwP1tbF",
    "outputId": "afa223c6-5d57-4647-84cf-d401391c1529"
   },
   "outputs": [],
   "source": [
    "Image(\"/content/runs/detect/train/results.png\", width=600)"
   ]
  },
  {
   "cell_type": "code",
   "execution_count": null,
   "metadata": {
    "colab": {
     "base_uri": "https://localhost:8080/",
     "height": 617
    },
    "id": "RacyVWK3103E",
    "outputId": "4500a5cb-3173-4ab1-d10c-aa79eef81701"
   },
   "outputs": [],
   "source": [
    "Image(\"/content/runs/detect/train/train_batch0.jpg\", width=600)"
   ]
  },
  {
   "cell_type": "code",
   "execution_count": null,
   "metadata": {
    "colab": {
     "base_uri": "https://localhost:8080/",
     "height": 361
    },
    "id": "idaZDidT10_L",
    "outputId": "d20d4bd3-728b-4d32-e18d-d84f81fdeb39"
   },
   "outputs": [],
   "source": [
    "Image(\"/content/runs/detect/train/val_batch0_pred.jpg\", width=600)"
   ]
  },
  {
   "cell_type": "code",
   "execution_count": null,
   "metadata": {
    "colab": {
     "base_uri": "https://localhost:8080/",
     "height": 361
    },
    "id": "VPEj-hRA11Pn",
    "outputId": "d5b53379-72dd-4b34-a76d-9edff8d92a7c"
   },
   "outputs": [],
   "source": [
    "Image(\"/content/runs/detect/train/val_batch1_pred.jpg\", width=600)"
   ]
  },
  {
   "cell_type": "markdown",
   "metadata": {
    "id": "OOdt0GSA5ntm"
   },
   "source": [
    "**Step # 08 Inference with Custom Model on Images**"
   ]
  },
  {
   "cell_type": "code",
   "execution_count": null,
   "metadata": {
    "colab": {
     "base_uri": "https://localhost:8080/"
    },
    "id": "E1dU-fiz3sUr",
    "outputId": "bb8eb1c5-c590-4b76-ce5a-172131ced593"
   },
   "outputs": [],
   "source": [
    "!yolo task=detect mode=predict model=\"/content/runs/detect/train/weights/best.pt\" conf=0.25 source={dataset.location}/test/images save=True"
   ]
  },
  {
   "cell_type": "code",
   "execution_count": null,
   "metadata": {
    "colab": {
     "base_uri": "https://localhost:8080/",
     "height": 1000
    },
    "id": "ovHNzaN76tNT",
    "outputId": "db648e3d-ae43-43b1-82e7-674b3560fb7d"
   },
   "outputs": [],
   "source": [
    "import glob\n",
    "import os\n",
    "from IPython.display import Image as IPyImage, display\n",
    "\n",
    "latest_folder = max(glob.glob('/content/runs/detect/predict*/'), key=os.path.getmtime)\n",
    "for img in glob.glob(f'{latest_folder}/*.jpg')[1:4]:\n",
    "    display(IPyImage(filename=img, width=600))\n",
    "    print(\"\\n\")"
   ]
  },
  {
   "cell_type": "code",
   "execution_count": null,
   "metadata": {
    "colab": {
     "base_uri": "https://localhost:8080/"
    },
    "id": "RjjfKx_s7slc",
    "outputId": "ef915291-2991-4627-c819-aeb6c81d5f8e"
   },
   "outputs": [],
   "source": [
    "!yolo task=detect mode=predict model= \"/content/runs/detect/train/weights/best.pt\" conf=0.25 source=helmet.jpg save=True"
   ]
  },
  {
   "cell_type": "code",
   "execution_count": null,
   "metadata": {
    "colab": {
     "base_uri": "https://localhost:8080/",
     "height": 1000
    },
    "id": "dsib6gfS729w",
    "outputId": "b25202b9-5934-4e51-9dd0-41025df726a1"
   },
   "outputs": [],
   "source": [
    "Image(\"/content/runs/detect/predict2/helmet.jpg\", width=600)"
   ]
  },
  {
   "cell_type": "markdown",
   "metadata": {
    "id": "v8XHiRuh7gYJ"
   },
   "source": [
    "**Step # 08 Inference with Custom Model on Videos**"
   ]
  },
  {
   "cell_type": "code",
   "execution_count": null,
   "metadata": {
    "colab": {
     "base_uri": "https://localhost:8080/"
    },
    "id": "xmwUaudA8JFj",
    "outputId": "2dbb1af8-60b2-42d9-bad7-2f9a7317a5b9"
   },
   "outputs": [],
   "source": [
    "!yolo task=detect mode=predict model= \"/content/runs/detect/train/weights/best.pt\" conf=0.25 source=\"PPE_Part1.mp4\" save=True"
   ]
  },
  {
   "cell_type": "code",
   "execution_count": null,
   "metadata": {
    "colab": {
     "background_save": true
    },
    "id": "mqMDDLd28lGK"
   },
   "outputs": [],
   "source": [
    "from IPython.display import HTML\n",
    "from base64 import b64encode\n",
    "import os\n",
    "\n",
    "# Input video path\n",
    "save_path = '/content/runs/detect/predict3/PPE_Part1.avi'\n",
    "\n",
    "# Compressed video path\n",
    "compressed_path = \"/content/result_compressed.mp4\"\n",
    "\n",
    "os.system(f\"ffmpeg -i {save_path} -vcodec libx264 {compressed_path}\")\n",
    "\n",
    "# Show video\n",
    "mp4 = open(compressed_path,'rb').read()\n",
    "data_url = \"data:video/mp4;base64,\" + b64encode(mp4).decode()\n",
    "HTML(\"\"\"\n",
    "<video width=400 controls>\n",
    "      <source src=\"%s\" type=\"video/mp4\">\n",
    "</video>\n",
    "\"\"\" % data_url)"
   ]
  },
  {
   "cell_type": "code",
   "execution_count": null,
   "metadata": {
    "id": "xWyRfCW79Mnp"
   },
   "outputs": [],
   "source": []
  }
 ],
 "metadata": {
  "accelerator": "GPU",
  "colab": {
   "gpuType": "T4",
   "provenance": []
  },
  "kernelspec": {
   "display_name": ".venv",
   "language": "python",
   "name": "python3"
  },
  "language_info": {
   "codemirror_mode": {
    "name": "ipython",
    "version": 3
   },
   "file_extension": ".py",
   "mimetype": "text/x-python",
   "name": "python",
   "nbconvert_exporter": "python",
   "pygments_lexer": "ipython3",
   "version": "3.12.6"
  }
 },
 "nbformat": 4,
 "nbformat_minor": 0
}
